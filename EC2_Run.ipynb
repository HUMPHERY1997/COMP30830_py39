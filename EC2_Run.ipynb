{
 "cells": [
  {
   "cell_type": "code",
   "execution_count": 1,
   "id": "56cdb767",
   "metadata": {
    "scrolled": true
   },
   "outputs": [],
   "source": [
    "import requests\n",
    "import json\n",
    "import time\n",
    "import traceback\n",
    "import pymysql\n",
    "import pandas as pd\n",
    "from datetime import datetime"
   ]
  },
  {
   "cell_type": "markdown",
   "id": "7c0ee2c9",
   "metadata": {},
   "source": [
    "CONNECT TO AWS RDS"
   ]
  },
  {
   "cell_type": "code",
   "execution_count": 2,
   "id": "f9fed642",
   "metadata": {},
   "outputs": [],
   "source": [
    "dbikes = pymysql.Connect(\n",
    "    host = \"dbikes.ccike2q3zkya.eu-west-1.rds.amazonaws.com\",\n",
    "    user = \"admin\",\n",
    "    passwd = \"admin2022\",\n",
    "    database = \"dbikes\")"
   ]
  },
  {
   "cell_type": "markdown",
   "id": "33c2d910",
   "metadata": {},
   "source": [
    "CREATE THREE TABLES\n",
    "\n",
    "static_station columns: number, name, bike stands, lat, lng\n",
    "\n",
    "dynamic_station columns: number, last_update, available_bike_stands, available_bikes\n",
    "\n",
    "dynamic_weather columns: number, lat, lng, dt, temp, pressure, wind_speed, humidity"
   ]
  },
  {
   "cell_type": "code",
   "execution_count": 3,
   "id": "b38a4a07",
   "metadata": {
    "scrolled": true
   },
   "outputs": [
    {
     "data": {
      "text/plain": [
       "0"
      ]
     },
     "execution_count": 3,
     "metadata": {},
     "output_type": "execute_result"
    }
   ],
   "source": [
    "cur = dbikes.cursor()\n",
    "cur.execute(\"CREATE TABLE IF NOT EXISTS static_station(number integer, name varchar(45), bike_stands integer, lat float, lng float)\")\n",
    "cur.execute(\"CREATE TABLE IF NOT EXISTS dynamic_station(number integer, last_update integer, available_bike_stands integer, available_bikes integer)\")\n",
    "cur.execute(\"CREATE TABLE IF NOT EXISTS dynamic_weather(number integer, lat float, lng float, dt integer, temp float, pressure float, wind_speed float, humidity float)\")"
   ]
  },
  {
   "cell_type": "markdown",
   "id": "7fcdbac8",
   "metadata": {},
   "source": [
    "Insert the static_station table"
   ]
  },
  {
   "cell_type": "code",
   "execution_count": 9,
   "id": "f9efd1d6",
   "metadata": {},
   "outputs": [],
   "source": [
    "# for i in range(len(data)):\n",
    "#     station_row = data[i]\n",
    "#     static_station_insert_query = \"INSERT INTO static_station(number, name, bike_stands, lat, lng) VALUES(%s, %s, %s, %s, %s)\"\n",
    "#     static_station_data = (int(station_row.get(\"number\")),\n",
    "#                            station_row.get(\"name\"),\n",
    "#                            int(station_row.get(\"bike_stands\")),\n",
    "#                            float(station_row.get(\"position\").get(\"lat\")),\n",
    "#                            float(station_row.get(\"position\").get(\"lng\")))\n",
    "#     cur.execute(static_station_insert_query, static_station_data)\n",
    "# dbikes.commit()           "
   ]
  },
  {
   "cell_type": "markdown",
   "id": "dbaf8c3c",
   "metadata": {},
   "source": [
    "Method to request data from JDCecaux API and Openweather API"
   ]
  },
  {
   "cell_type": "code",
   "execution_count": 4,
   "id": "a7eafa89",
   "metadata": {},
   "outputs": [],
   "source": [
    "#dublin bike station api\n",
    "APIKEY = \"a4ae2329e4585bbd13dcf83332d04b69a88fb904\" \n",
    "NAME = \"Dublin\" \n",
    "STATIONS_URI = \"https://api.jcdecaux.com/vls/v1/stations\"\n",
    "api_response = requests.get(STATIONS_URI, params={\"apiKey\": APIKEY, \"contract\": NAME})\n",
    "data = json.loads(api_response.text)\n",
    "\n",
    "#openweather api\n",
    "WEATHER_APIKEY = \"eeec159d31a816c2152dbf05ba6e0076\"\n",
    "WEATHER_URL = \"http://api.openweathermap.org/data/2.5/weather?lat={}&lon={}&appid={}\""
   ]
  },
  {
   "cell_type": "code",
   "execution_count": 14,
   "id": "7888c72c",
   "metadata": {},
   "outputs": [],
   "source": [
    "def InsertData2Tables(station):\n",
    "    for i in range(0,len(station)):\n",
    "        station_row = station[i]\n",
    "        weather_response = requests.get(WEATHER_URL.format(station_row.get(\"position\").get(\"lat\"), station_row.get(\"position\").get(\"lng\"), WEATHER_APIKEY))\n",
    "        weather = json.loads(weather_response.text)\n",
    "#         insert the station data\n",
    "        station_insert_query = \"INSERT INTO dynamic_station(number, last_update, available_bike_stands, available_bikes) VALUES(%s, %s, %s, %s)\"\n",
    "        station_data = (int(station_row.get(\"number\")),\n",
    "                        float(station_row.get(\"last_update\")),\n",
    "                        int(station_row.get(\"available_bike_stands\")),\n",
    "                        int(station_row.get(\"available_bikes\")))\n",
    "        cur.execute(station_insert_query, station_data)\n",
    "        \n",
    "#         insert the weather data\n",
    "#         here still in this rage because each station match each weather, which is the same in number\n",
    "        weather_insert_query = \"INSERT INTO dynamic_weather(number, lat, lng, dt, temp, pressure, wind_speed, humidity) VALUES(%s, %s, %s, %s, %s, %s, %s, %s)\"\n",
    "        weather_data = (int(station_row.get(\"number\")),\n",
    "                        float(weather[\"coord\"].get(\"lat\")),\n",
    "                        float(weather[\"coord\"].get(\"lon\")),\n",
    "                        int(weather[\"dt\"]),\n",
    "                        float(weather[\"main\"].get(\"temp\")),\n",
    "                        float(weather[\"main\"].get(\"pressure\")),\n",
    "                        float(weather[\"wind\"].get(\"speed\")),\n",
    "                        float(weather[\"main\"].get(\"humidity\")))\n",
    "        cur.execute(weather_insert_query, weather_data)\n",
    "    dbikes.commit()"
   ]
  },
  {
   "cell_type": "code",
   "execution_count": 15,
   "id": "a7248b61",
   "metadata": {},
   "outputs": [],
   "source": [
    "def ContinuousGetData():\n",
    "    while True:\n",
    "        try:\n",
    "            api_response = requests.get(STATIONS_URI, params={\"apiKey\": APIKEY, \"contract\": NAME})\n",
    "            data = json.loads(api_response.text)\n",
    "            InsertData2Tables(data)\n",
    "            \n",
    "#             sleep every 5 minutes\n",
    "            time.sleep(5*60)\n",
    "    \n",
    "        except:\n",
    "#             hit for problems\n",
    "            print(traceback.format_exc())"
   ]
  },
  {
   "cell_type": "code",
   "execution_count": null,
   "id": "b17f1240",
   "metadata": {},
   "outputs": [],
   "source": [
    "ContinuousGetData()"
   ]
  }
 ],
 "metadata": {
  "kernelspec": {
   "display_name": "Python 3 (ipykernel)",
   "language": "python",
   "name": "python3"
  },
  "language_info": {
   "codemirror_mode": {
    "name": "ipython",
    "version": 3
   },
   "file_extension": ".py",
   "mimetype": "text/x-python",
   "name": "python",
   "nbconvert_exporter": "python",
   "pygments_lexer": "ipython3",
   "version": "3.9.7"
  }
 },
 "nbformat": 4,
 "nbformat_minor": 5
}
